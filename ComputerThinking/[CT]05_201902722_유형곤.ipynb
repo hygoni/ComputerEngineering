{
 "cells": [
  {
   "cell_type": "markdown",
   "metadata": {},
   "source": [
    "과제번호 05 - List, Set, Tuple\n",
    "===================="
   ]
  },
  {
   "cell_type": "markdown",
   "metadata": {},
   "source": [
    "# 과제 목표\n",
    "Python의 List, Set, Tuple을 이해하고 사용한다"
   ]
  },
  {
   "cell_type": "markdown",
   "metadata": {},
   "source": [
    "### 과제1\n",
    "List의 순회 및 원소 값 수정하기"
   ]
  },
  {
   "cell_type": "code",
   "execution_count": 1,
   "metadata": {},
   "outputs": [],
   "source": [
    "#이 cell은 수정하지 마세요.\n",
    "x = ['cat', 'cat', 'dog', 'cat', 'dog', 'dog', 'cat', 'cat', 'dog', 'cat', 'dog', 'mouse',\n",
    "     'cat', 'cat', 'cat', 'cat', 'dog', 'dog', 'cat', 'mouse', 'cat', 'cat', 'cat', 'mouse',\n",
    "     'dog', 'mouse', 'dog', 'cat', 'dog', 'mouse', 'dog', 'cat', 'cat', 'mouse', 'cat', 'cat',\n",
    "     'dog', 'cat', 'mouse', 'dog', 'cat', 'mouse', 'cat', 'dog', 'cat', 'cat', 'mouse', 'dog',\n",
    "     'cat', 'dog', 'cat', 'dog', 'dog', 'dog', 'mouse', 'dog', 'cat', 'dog', 'dog', 'mouse',\n",
    "     'cat', 'dog', 'cat', 'dog', 'dog', 'dog', 'dog', 'dog', 'mouse', 'mouse', 'cat', 'mouse',\n",
    "     'mouse', 'cat', 'cat', 'mouse', 'dog', 'cat', 'dog', 'dog', 'cat', 'dog', 'dog', 'cat',\n",
    "     'dog', 'cat', 'mouse', 'cat', 'cat', 'cat', 'mouse', 'mouse', 'mouse', 'dog', 'cat', 'mouse',\n",
    "     'dog', 'dog', 'dog', 'dog']"
   ]
  },
  {
   "cell_type": "markdown",
   "metadata": {
    "scrolled": false
   },
   "source": [
    "아래의 cell에 리스트 x안에 있는 'cat', 'dog', 'mouse'들의 수를 저장한 **Tuple**을 출력하고\n",
    "\n",
    "'cat'은 'meow', 'dog'는 'bowwow', 'mouse'는 'squeak'으로 바꾸어 저장한 **Tuple**을 출력하세요\n",
    "\n",
    "따라서 print는 두번 사용되어야 합니다"
   ]
  },
  {
   "cell_type": "code",
   "execution_count": 2,
   "metadata": {},
   "outputs": [
    {
     "name": "stdout",
     "output_type": "stream",
     "text": [
      "(40, 39, 21)\n",
      "('meow', 'meow', 'bowwow', 'meow', 'bowwow', 'bowwow', 'meow', 'meow', 'bowwow', 'meow', 'bowwow', 'squeak', 'meow', 'meow', 'meow', 'meow', 'bowwow', 'bowwow', 'meow', 'squeak', 'meow', 'meow', 'meow', 'squeak', 'bowwow', 'squeak', 'bowwow', 'meow', 'bowwow', 'squeak', 'bowwow', 'meow', 'meow', 'squeak', 'meow', 'meow', 'bowwow', 'meow', 'squeak', 'bowwow', 'meow', 'squeak', 'meow', 'bowwow', 'meow', 'meow', 'squeak', 'bowwow', 'meow', 'bowwow', 'meow', 'bowwow', 'bowwow', 'bowwow', 'squeak', 'bowwow', 'meow', 'bowwow', 'bowwow', 'squeak', 'meow', 'bowwow', 'meow', 'bowwow', 'bowwow', 'bowwow', 'bowwow', 'bowwow', 'squeak', 'squeak', 'meow', 'squeak', 'squeak', 'meow', 'meow', 'squeak', 'bowwow', 'meow', 'bowwow', 'bowwow', 'meow', 'bowwow', 'bowwow', 'meow', 'bowwow', 'meow', 'squeak', 'meow', 'meow', 'meow', 'squeak', 'squeak', 'squeak', 'bowwow', 'meow', 'squeak', 'bowwow', 'bowwow', 'bowwow', 'bowwow')\n"
     ]
    }
   ],
   "source": [
    "#이 cell에 과제1을 수행하세요.\n",
    "cat = 0\n",
    "dog = 0\n",
    "mouse = 0\n",
    "\n",
    "for element in x:\n",
    "    if 'cat' == element:\n",
    "        cat += 1\n",
    "    elif 'dog' == element:\n",
    "        dog += 1\n",
    "    elif 'mouse' == element:\n",
    "        mouse += 1\n",
    "\n",
    "y = x.copy()\n",
    "\n",
    "print((cat, dog, mouse))\n",
    "\n",
    "i = 0\n",
    "while i < len(y):\n",
    "    if y[i] == 'cat':\n",
    "        y[i] = 'meow'\n",
    "    elif y[i] == 'dog':\n",
    "        y[i] = 'bowwow'\n",
    "    elif y[i] == 'mouse':\n",
    "        y[i] = 'squeak'\n",
    "    i += 1\n",
    "\n",
    "print(tuple(y))\n"
   ]
  },
  {
   "cell_type": "markdown",
   "metadata": {},
   "source": [
    "### 과제2\n",
    "문장에 등장한 문자의 갯수 세기"
   ]
  },
  {
   "cell_type": "code",
   "execution_count": 3,
   "metadata": {},
   "outputs": [],
   "source": [
    "#이 cell은 수정하지 마세요.\n",
    "x2 = '''along the line of incorporating outside information in training set debugging,\n",
    "(ghosh et al. 2016) requires the learned model to satisfy certain probabilistic computation tree logic (pctl).\n",
    "that is, the bugs are revealed by the learned model violating logical constraints rather than by the trusted items.\n",
    "this approach complements duti and the two can potentially be combined in the future.\n",
    "we note that in complex machine learning applications it can be more difficult for experts\n",
    "to encode domain knowledge in rigorous logical statements,whereas providing verified trusted\n",
    "items is often easier. Our work is partly inspired by the need to identify historical unfairness in a training set.\n",
    "duti thus joins recent work (hardt et al. 2016; corbett-davies et al. 2017; zemel et al. 2013; feldman et al. 2015)\n",
    "on algorithmic fairness. in our experiments, we demonstrated how duti can be used to identify historical\n",
    "discrimination, with the hope that such identification will improve fairness of machine learning systems.'''"
   ]
  },
  {
   "cell_type": "markdown",
   "metadata": {},
   "source": [
    "아래의 cell에 x2 문자열에 등장한 문자들의 종류와 각 문자가 몇번 등장하였는지 각각 출력하세요\n",
    "\n",
    "출력 예)\n",
    "\n",
    "등장한 문자: a, b, c, d, e, (, ;, )\n",
    "\n",
    "a: 14, b:11, c:6, d: 15, e:21, (:3, ;:1, ):3\n",
    "\n",
    "출력예제와 동일한 형식이 아니어도 됩니다 단 요구하는 조건을 반드시 만족해야합니다"
   ]
  },
  {
   "cell_type": "code",
   "execution_count": 7,
   "metadata": {
    "scrolled": false
   },
   "outputs": [
    {
     "name": "stdout",
     "output_type": "stream",
     "text": [
      "=============================================================== 등장하는 문자들 ============================================================\n",
      "\n",
      "'i', '2', 'p', ',', '3', '.', 'd', ')', 'O', '1', 'h', 'x', 'n', 'r', 'q', '(', ';', 'f', 'm', 'c', 'g', '0', 'v', '-', 'j', 'e', 'z', '7', '5', 't', 'w', 'a', 'l', 'k', 'o', 'u', '6', 'y', 'b', 's'\n",
      "\n",
      "=============================================================== 문자별 등장횟수 ============================================================\n",
      "\n",
      "i: 86개  2: 5개  p: 18개  ,: 5개  3: 1개  .: 12개  d: 32개  ): 3개  O: 1개  1: 5개  \n",
      "h: 30개  x: 3개  n: 64개  r: 51개  q: 1개  (: 3개  ;: 3개  f: 17개  m: 23개  c: 29개  \n",
      "g: 19개  0: 5개  v: 6개  -: 1개  j: 1개  e: 96개  z: 1개  7: 1개  5: 1개  t: 86개  \n",
      "w: 10개  a: 58개  l: 37개  k: 3개  o: 55개  u: 20개  6: 2개  y: 9개  b: 12개  s: 47개  \n"
     ]
    }
   ],
   "source": [
    "#이 cell에 과제2를 수행하세요.\n",
    "#Solution 2 : list, set version\n",
    "\n",
    "letters = (list(set(x2) - {' ', '\\n'}))\n",
    "\n",
    "print('=============================================================== 등장하는 문자들 ============================================================')\n",
    "print('')\n",
    "print(str(letters)[1:len(str(letters))-1]) #문자들 출력\n",
    "letter_count = [] #각 글자가 나온 횟수\n",
    "for i in range(0, len(letters)): #letter_count 초기화\n",
    "    letter_count += [0]\n",
    "\n",
    "for letter in x2: #글자의 횟수를 letter_count에 저장\n",
    "    if letter == ' ' or letter == '\\n': #엔터, 공백 제외\n",
    "        continue\n",
    "    letter_count[letters.index(letter)] += 1\n",
    "print('')\n",
    "print('=============================================================== 문자별 등장횟수 ============================================================')\n",
    "print('')\n",
    "\n",
    "for i in range(0, len(letters)):\n",
    "    print(letters[i] + ': ' + str(letter_count[i]) + '개', end='  ')\n",
    "    if (i+1) % 10 == 0: #5번에 한번씩 엔터 출력\n",
    "        print('')\n"
   ]
  },
  {
   "cell_type": "markdown",
   "metadata": {},
   "source": [
    "### 과제3\n"
   ]
  },
  {
   "cell_type": "code",
   "execution_count": 5,
   "metadata": {},
   "outputs": [],
   "source": [
    "#이 cell은 수정하지 마세요.\n",
    "x=[79, 95, 85, 32, 43, 24, 68, 94, 89, 50, 30, 66, 36, 52, 77, 96, 92, 59, 70, 62, 42, 45, 86, 26, 99, 21, 23, 93, 57, 29, 25, 97, 56, 87, 20, 10, 65, 11, 75, 76, 72, 12, 39, 91, 28, 60, 81, 47, 73, 58, 46, 82, 27, 74, 22, 34, 78, 64, 38, 41, 88, 37, 44, 53, 49, 13, 80, 48, 15, 18, 35, 33, 54, 55, 63, 61, 67, 19, 51, 16, 84, 17, 14, 40, 98, 90, 71, 31, 83, 69]\n"
   ]
  },
  {
   "cell_type": "markdown",
   "metadata": {},
   "source": [
    "List x의 모든 원소를 한줄에 10개씩 List로 출력하세요"
   ]
  },
  {
   "cell_type": "code",
   "execution_count": 6,
   "metadata": {
    "scrolled": true
   },
   "outputs": [
    {
     "name": "stdout",
     "output_type": "stream",
     "text": [
      "[79, 95, 85, 32, 43, 24, 68, 94, 89, 50]\n",
      "[30, 66, 36, 52, 77, 96, 92, 59, 70, 62]\n",
      "[42, 45, 86, 26, 99, 21, 23, 93, 57, 29]\n",
      "[25, 97, 56, 87, 20, 10, 65, 11, 75, 76]\n",
      "[72, 12, 39, 91, 28, 60, 81, 47, 73, 58]\n",
      "[46, 82, 27, 74, 22, 34, 78, 64, 38, 41]\n",
      "[88, 37, 44, 53, 49, 13, 80, 48, 15, 18]\n",
      "[35, 33, 54, 55, 63, 61, 67, 19, 51, 16]\n",
      "[84, 17, 14, 40, 98, 90, 71, 31, 83, 69]\n"
     ]
    }
   ],
   "source": [
    "#이 cell에 과제3을 수행하세요\n",
    "n_list = [ x[i:i+10] for i in range(0,90,10) ]\n",
    "for element in n_list:\n",
    "    print(element)\n",
    "\n"
   ]
  }
 ],
 "metadata": {
  "kernelspec": {
   "display_name": "Python 3",
   "language": "python",
   "name": "python3"
  },
  "language_info": {
   "codemirror_mode": {
    "name": "ipython",
    "version": 3
   },
   "file_extension": ".py",
   "mimetype": "text/x-python",
   "name": "python",
   "nbconvert_exporter": "python",
   "pygments_lexer": "ipython3",
   "version": "3.6.5"
  }
 },
 "nbformat": 4,
 "nbformat_minor": 2
}
