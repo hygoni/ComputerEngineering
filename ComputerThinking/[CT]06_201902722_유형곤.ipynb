{
 "cells": [
  {
   "cell_type": "markdown",
   "metadata": {},
   "source": [
    "과제번호 06 - Dictionary\n",
    "===================="
   ]
  },
  {
   "cell_type": "markdown",
   "metadata": {},
   "source": [
    "# 과제 목표\n",
    "Python의 Dictionary를 이해하고 사용한다"
   ]
  },
  {
   "cell_type": "markdown",
   "metadata": {},
   "source": [
    "### 과제1\n",
    "Dictionary를 활용한 문자의 갯수 세기"
   ]
  },
  {
   "cell_type": "code",
   "execution_count": 1,
   "metadata": {},
   "outputs": [
    {
     "name": "stdout",
     "output_type": "stream",
     "text": [
      "this paper introduces a new neural network architecture\n",
      "that is specifically tailored for mobile and resource\n",
      "constrained environments. our network pushes the state\n",
      "of the art for mobile tailored computer vision models,\n",
      "by significantly decreasing the number of operations and\n",
      "memory needed while retaining the same accuracy.\n",
      "our main contribution is a novel layer module: the\n",
      "inverted residual with linear bottleneck. this module\n",
      "takes as an input a low-dimensional compressed\n",
      "representation which is first expanded to high dimension\n",
      "and filtered with a lightweight depthwise convolution.\n",
      "features are subsequently projected back to a\n",
      "low-dimensional representation with a linear convolution.\n",
      "the official implementation is available as part of\n",
      "tensorflow-slim model library in\n"
     ]
    }
   ],
   "source": [
    "#이 cell은 수정하지 마세요.\n",
    "x1 = '''This paper introduces a new neural network architecture\n",
    "that is specifically tailored for mobile and resource\n",
    "constrained environments. Our network pushes the state\n",
    "of the art for mobile tailored computer vision models,\n",
    "by significantly decreasing the number of operations and\n",
    "memory needed while retaining the same accuracy.\n",
    "Our main contribution is a novel layer module: the\n",
    "inverted residual with linear bottleneck. This module\n",
    "takes as an input a low-dimensional compressed\n",
    "representation which is first expanded to high dimension\n",
    "and filtered with a lightweight depthwise convolution.\n",
    "Features are subsequently projected back to a\n",
    "low-dimensional representation with a linear convolution.\n",
    "The official implementation is available as part of\n",
    "TensorFlow-Slim model library in'''\n",
    "#소문자로 변경\n",
    "x1 = ''.join([i.lower() for i in x1])\n",
    "print(x1)"
   ]
  },
  {
   "cell_type": "markdown",
   "metadata": {
    "scrolled": false
   },
   "source": [
    "아래의 cell에 x1 문자열에 등장한 문자들의 종류와 각 문자가 몇번 등장하였는지 출력하는 **함수**를 작성해주세요\n",
    "\n",
    "과제05에서 이미 Dictionary로 작성하였다면 이번 과제에선 반드시 set과 list를 활용하여 작성해주세요\n",
    "\n",
    "출력 예)\n",
    "\n",
    "**등장한 문자: a, b, c, d, e, (, ;, )**\n",
    "\n",
    "a: 14, b:11, c:6, d: 15, e:21, (:3, ;:1, ):3\n",
    "\n",
    "위는 예제이며 실제로는 더 많습니다"
   ]
  },
  {
   "cell_type": "code",
   "execution_count": 2,
   "metadata": {},
   "outputs": [],
   "source": [
    "#이 cell에 과제1을 수행하세요.\n",
    "\n",
    "def foo(text):\n",
    "    letter_dictionary = { letter : 0 for letter in set(text)-{' ', '\\n'}}\n",
    "    for letter in text:\n",
    "        if letter != ' ' and letter != '\\n':\n",
    "            letter_dictionary[letter] += 1\n",
    "\n",
    "    print('등장한 문자 : ', end = '')\n",
    "    strings = ''\n",
    "    for letter_key in letter_dictionary:\n",
    "        strings += \"'\"+letter_key + \"', \"\n",
    "    print(strings[:len(strings)-2], end = '\\n'*2)\n",
    "\n",
    "    for letter_key in letter_dictionary:\n",
    "        print('{}는 총 {}번 나왔습니다.'.format(letter_key, letter_dictionary[letter_key]))"
   ]
  },
  {
   "cell_type": "code",
   "execution_count": 3,
   "metadata": {},
   "outputs": [
    {
     "name": "stdout",
     "output_type": "stream",
     "text": [
      "등장한 문자 : 'p', 'u', 'w', 'c', 'x', 'd', 'n', '-', 'o', 'i', '.', 'g', 'v', 's', 'q', 'k', 'r', ':', 'f', 'h', 'l', 'b', 't', 'e', ',', 'm', 'a', 'y', 'j'\n",
      "\n",
      "p는 총 15번 나왔습니다.\n",
      "u는 총 20번 나왔습니다.\n",
      "w는 총 13번 나왔습니다.\n",
      "c는 총 22번 나왔습니다.\n",
      "x는 총 1번 나왔습니다.\n",
      "d는 총 25번 나왔습니다.\n",
      "n는 총 52번 나왔습니다.\n",
      "-는 총 3번 나왔습니다.\n",
      "o는 총 51번 나왔습니다.\n",
      "i는 총 62번 나왔습니다.\n",
      ".는 총 5번 나왔습니다.\n",
      "g는 총 6번 나왔습니다.\n",
      "v는 총 7번 나왔습니다.\n",
      "s는 총 38번 나왔습니다.\n",
      "q는 총 1번 나왔습니다.\n",
      "k는 총 5번 나왔습니다.\n",
      "r는 총 45번 나왔습니다.\n",
      ":는 총 1번 나왔습니다.\n",
      "f는 총 13번 나왔습니다.\n",
      "h는 총 22번 나왔습니다.\n",
      "l는 총 35번 나왔습니다.\n",
      "b는 총 10번 나왔습니다.\n",
      "t는 총 56번 나왔습니다.\n",
      "e는 총 81번 나왔습니다.\n",
      ",는 총 1번 나왔습니다.\n",
      "m는 총 20번 나왔습니다.\n",
      "a는 총 50번 나왔습니다.\n",
      "y는 총 8번 나왔습니다.\n",
      "j는 총 1번 나왔습니다.\n"
     ]
    }
   ],
   "source": [
    "foo(x1)"
   ]
  },
  {
   "cell_type": "markdown",
   "metadata": {},
   "source": [
    "### 과제2\n",
    "Key와 Value 순회해보기"
   ]
  },
  {
   "cell_type": "code",
   "execution_count": 4,
   "metadata": {},
   "outputs": [
    {
     "name": "stdout",
     "output_type": "stream",
     "text": [
      "alice\n",
      "bob\n",
      "tony\n",
      "suzy\n",
      "name\n",
      "phone\n",
      "birth\n",
      "city\n",
      "subject\n",
      "Professor\n",
      "Inner\n",
      "Inferno\n",
      "Assistant\n",
      "class\n",
      "my mind\n"
     ]
    }
   ],
   "source": [
    "#이 cell은 수정하지 마세요.\n",
    "x2 = {'alice': [1, 2, 3], 'bob': 20, 'tony': 15, 'suzy': 30,\n",
    "      'name':'pey', 'phone':'0119993323', 'birth': '1118', 'city':'Daejeon',\n",
    "     'subject': 'Computer_Scientific_Thinking', 'Professor':'Dong il Kim',\n",
    "      'Inner':'Outer','Inferno':'Dan Brown', 'Assistant':['Han wool Ku', 'Won kun Jo'],\n",
    "     'class':5416, 'my mind':set('please do it yourself')}\n",
    "\n",
    "for i in x2:\n",
    "    print(i)"
   ]
  },
  {
   "cell_type": "markdown",
   "metadata": {},
   "source": [
    "아래의 cell에 x2 Dictionary의 모든 Key중 소문자 'i'를 포함한 Key를 출력하고 Key에 따른 Value가 어떤 자료형인지 출력해주세요"
   ]
  },
  {
   "cell_type": "code",
   "execution_count": 5,
   "metadata": {},
   "outputs": [],
   "source": [
    "#이 cell에 과제2를 수행하세요.\n",
    "def myPrint(dic):\n",
    "    if type(dic) != dict:\n",
    "        print('Error!')\n",
    "        return\n",
    "    keyVal = {key : type(dic[key]) for key in dic if 'i' in key}\n",
    "    for key in keyVal:\n",
    "        print('{}의 타입은 {}입니다.'.format(key, keyVal[key]))\n",
    "    "
   ]
  },
  {
   "cell_type": "code",
   "execution_count": 6,
   "metadata": {
    "scrolled": true
   },
   "outputs": [
    {
     "name": "stdout",
     "output_type": "stream",
     "text": [
      "alice의 타입은 <class 'list'>입니다.\n",
      "birth의 타입은 <class 'str'>입니다.\n",
      "city의 타입은 <class 'str'>입니다.\n",
      "Assistant의 타입은 <class 'list'>입니다.\n",
      "my mind의 타입은 <class 'set'>입니다.\n"
     ]
    }
   ],
   "source": [
    "myPrint(x2)"
   ]
  },
  {
   "cell_type": "markdown",
   "metadata": {},
   "source": [
    "### 과제3\n",
    "List Comprehension 사용하기"
   ]
  },
  {
   "cell_type": "code",
   "execution_count": 7,
   "metadata": {},
   "outputs": [
    {
     "name": "stdout",
     "output_type": "stream",
     "text": [
      "[1, 7, 11, 13, 17, 19, 23, 29, 31, 37, 41, 43, 47, 49, 53, 59, 61, 67, 71, 73, 77, 79, 83, 89, 91, 97]\n"
     ]
    }
   ],
   "source": [
    "#이 cell은 수정하지 마세요.\n",
    "x3 = [i for i in range(1,101) if (i % 2 != 0) and (i % 3 != 0) and (i % 5 != 0)]\n",
    "print(x3)"
   ]
  },
  {
   "cell_type": "markdown",
   "metadata": {},
   "source": [
    "아래의 cell에 100이하의 자연수 중 2,3,5의 배수가 아닌 수를 x3에 저장하는 코드를 1줄로 작성해주세요"
   ]
  }
 ],
 "metadata": {
  "kernelspec": {
   "display_name": "Python 3",
   "language": "python",
   "name": "python3"
  },
  "language_info": {
   "codemirror_mode": {
    "name": "ipython",
    "version": 3
   },
   "file_extension": ".py",
   "mimetype": "text/x-python",
   "name": "python",
   "nbconvert_exporter": "python",
   "pygments_lexer": "ipython3",
   "version": "3.7.1"
  }
 },
 "nbformat": 4,
 "nbformat_minor": 2
}
