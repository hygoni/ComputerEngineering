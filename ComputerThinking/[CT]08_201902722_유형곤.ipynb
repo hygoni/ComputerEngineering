{
 "cells": [
  {
   "cell_type": "markdown",
   "metadata": {},
   "source": [
    "과제번호 08 - 파일 입출력 및 라이브러리\n",
    "===================="
   ]
  },
  {
   "cell_type": "markdown",
   "metadata": {},
   "source": [
    "# 과제 목표\n",
    "Python의 파일 입출력 방법과 다양한 라이브러리를 필요에 따라 사용할 수 있다"
   ]
  },
  {
   "cell_type": "markdown",
   "metadata": {},
   "source": [
    "### 과제1\n",
    "대소문자 뒤바꾸기"
   ]
  },
  {
   "cell_type": "markdown",
   "metadata": {
    "scrolled": false
   },
   "source": [
    "아래의 cell에 data폴더 안에 있는 Alpha.txt를 읽고\n",
    "\n",
    "내용 중 대문자와 소문자를 서로 바꾸어 작성한 파일을 data폴더에 저장하는 코드를 작성하시오\n",
    "\n",
    "단, 숫자나 특수문자는 그대로 유지하시오\n",
    "\n",
    "(힌트: 문자를 ASCII코드로 변환하는 내장함수 ord(문자), 그 반대 chr(ASCII코드))"
   ]
  },
  {
   "cell_type": "code",
   "execution_count": 1,
   "metadata": {},
   "outputs": [],
   "source": [
    "#이 cell에 과제1을 수행하세요.\n",
    "def exchange(line):\n",
    "    _line = ''\n",
    "    for char in line:\n",
    "        if (ord(char) >= 65) and (ord(char) <= 90): #대문자일 때\n",
    "            _line += chr(ord(char)+32)\n",
    "        elif (ord(char) >= 97) and (ord(char) <= 122): #대문자일 때\n",
    "            _line += chr(ord(char)-32)\n",
    "        else:\n",
    "            _line += char\n",
    "    return _line\n",
    "\n",
    "f = open('./data/Alpha.txt', 'r')\n",
    "text = list()\n",
    "for line in f.readlines():\n",
    "    text.append(exchange(line))\n",
    "f.close()\n",
    "f = open('./data/Alpha.txt', 'w')\n",
    "for line in text:\n",
    "    f.write(line)\n",
    "f.close()"
   ]
  },
  {
   "cell_type": "markdown",
   "metadata": {},
   "source": [
    "### 과제 2\n",
    "역순 저장하기"
   ]
  },
  {
   "cell_type": "markdown",
   "metadata": {},
   "source": [
    "아래의 cell에 data폴더 안의 ABC.txt를 읽어\n",
    "\n",
    "해당 파일의 끝을 시작으로하여 해당 파일의 시작으로 끝나는\n",
    "\n",
    "CBA.txt를 data폴더에 저장하는 코드를 작성하시오"
   ]
  },
  {
   "cell_type": "markdown",
   "metadata": {},
   "source": [
    "## 예)\n",
    "ABC.txt\n",
    "=========\n",
    "AAA\n",
    "\n",
    "BBB\n",
    "\n",
    "CCC\n",
    "\n",
    "CBA.txt\n",
    "=========\n",
    "CCC\n",
    "\n",
    "BBB\n",
    "\n",
    "AAA"
   ]
  },
  {
   "cell_type": "code",
   "execution_count": 2,
   "metadata": {},
   "outputs": [],
   "source": [
    "#이 cell에 과제2를 수행하세요.\n",
    "f_abc = open('./data/ABC.txt', 'r')\n",
    "f_cba = open('./data/CBA.txt', 'w+')\n",
    "\n",
    "text = f_abc.read()\n",
    "for i in range(len(text) - 1, -1, -1):\n",
    "    f_cba.write(text[i])\n",
    "f_abc.close()\n",
    "f_cba.close()"
   ]
  },
  {
   "cell_type": "markdown",
   "metadata": {},
   "source": [
    "### 과제 3\n",
    "날짜 계산하기"
   ]
  },
  {
   "cell_type": "markdown",
   "metadata": {},
   "source": [
    "아래의 cell에 현재 날짜가 본 강의 시작일(첫 실습수업)로 부터 몇일이나 되었는지 구하는 코드를 작성하시오"
   ]
  },
  {
   "cell_type": "code",
   "execution_count": 3,
   "metadata": {},
   "outputs": [
    {
     "name": "stdout",
     "output_type": "stream",
     "text": [
      "68\n"
     ]
    }
   ],
   "source": [
    "#이 cell에 과제3을 수행하세요.\n",
    "import datetime\n",
    "start = datetime.date(2019, 3, 6)\n",
    "today = datetime.date.today()\n",
    "print((today-start).days)"
   ]
  }
 ],
 "metadata": {
  "kernelspec": {
   "display_name": "Python 3",
   "language": "python",
   "name": "python3"
  },
  "language_info": {
   "codemirror_mode": {
    "name": "ipython",
    "version": 3
   },
   "file_extension": ".py",
   "mimetype": "text/x-python",
   "name": "python",
   "nbconvert_exporter": "python",
   "pygments_lexer": "ipython3",
   "version": "3.7.1"
  }
 },
 "nbformat": 4,
 "nbformat_minor": 2
}
