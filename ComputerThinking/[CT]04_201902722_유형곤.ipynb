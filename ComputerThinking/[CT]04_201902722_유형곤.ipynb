{
 "cells": [
  {
   "cell_type": "markdown",
   "metadata": {},
   "source": [
    "과제번호 04 - 함수와 사용자입출력\n",
    "===================="
   ]
  },
  {
   "cell_type": "markdown",
   "metadata": {},
   "source": [
    "# 과제 목표\n",
    "함수를 작성할 수 있고 사용자입력을 사용할 수 있다."
   ]
  },
  {
   "cell_type": "markdown",
   "metadata": {},
   "source": [
    "### 과제1\n",
    "같은 역할의 함수 작성하기"
   ]
  },
  {
   "cell_type": "code",
   "execution_count": 1,
   "metadata": {},
   "outputs": [],
   "source": [
    "#이 cell은 수정하지 마세요.\n",
    "x = [30, 1, 10, 32, 21, 15, 16, 122, 13567, 199, 120, 201, 301]"
   ]
  },
  {
   "cell_type": "markdown",
   "metadata": {
    "scrolled": false
   },
   "source": [
    "아래의 cell에 리스트 x안에 있는 객체들의 수를 반환하는 함수를 'len' 내장함수의 사용 없이 myLength라는 이름으로 작성하시오"
   ]
  },
  {
   "cell_type": "code",
   "execution_count": 2,
   "metadata": {},
   "outputs": [],
   "source": [
    "#이 cell에 과제1을 수행하세요.\n",
    "def myLength(x):\n",
    "    number_of_elements = 0\n",
    "    for element in x:\n",
    "        number_of_elements += 1\n",
    "    return number_of_elements\n",
    "    "
   ]
  },
  {
   "cell_type": "code",
   "execution_count": 3,
   "metadata": {},
   "outputs": [
    {
     "name": "stdout",
     "output_type": "stream",
     "text": [
      "True\n"
     ]
    }
   ],
   "source": [
    "#이 cell은 자가진단을 위한 cell입니다.\n",
    "#x대신 다른 리스트를 넣어도 True가 나온다면 정답\n",
    "#len은 python에서 지원하는 리스트의 길이 반환 내장함수입니다.\n",
    "print(myLength(x) == len(x))"
   ]
  },
  {
   "cell_type": "markdown",
   "metadata": {},
   "source": [
    "### 과제2\n",
    "한 함수로 여러값 반환하기"
   ]
  },
  {
   "cell_type": "code",
   "execution_count": 4,
   "metadata": {},
   "outputs": [],
   "source": [
    "#이 cell은 수정하지 마세요.\n",
    "x2 = [10, 'a', 21, 30, 1000, 'b', 'c', 11, '0', '100', 100, 33]"
   ]
  },
  {
   "cell_type": "markdown",
   "metadata": {},
   "source": [
    "아래의 cell에 x2 리스트 안의 모든 정수형 값을 더한 값과 모든 문자열 값을 더한(이어붙인) 값을 출력하는 함수 mySumOfList를 작성하시오"
   ]
  },
  {
   "cell_type": "code",
   "execution_count": 5,
   "metadata": {},
   "outputs": [],
   "source": [
    "#이 cell에 과제2를 수행하세요.\n",
    "def mySumOfList(x):\n",
    "    sum_of_integer = 0\n",
    "    sum_of_string = ''\n",
    "    for element in x:\n",
    "        if type(element) == int:\n",
    "            sum_of_integer += element\n",
    "        elif type(element) == str:\n",
    "            sum_of_string += element\n",
    "    return sum_of_integer, sum_of_string\n",
    "\n",
    "    \n",
    "    "
   ]
  },
  {
   "cell_type": "code",
   "execution_count": 6,
   "metadata": {},
   "outputs": [
    {
     "name": "stdout",
     "output_type": "stream",
     "text": [
      "모든 정수형 값의 합:  True\n",
      "모든 문자열 값의 합:  True\n"
     ]
    }
   ],
   "source": [
    "#이 cell은 자가진단을 위한 cell입니다.\n",
    "#True가 나온다면 정답\n",
    "sumi, suma = mySumOfList(x2)\n",
    "print('모든 정수형 값의 합: ', sumi == 1205)\n",
    "print('모든 문자열 값의 합: ', suma == 'abc0100')"
   ]
  },
  {
   "cell_type": "markdown",
   "metadata": {},
   "source": [
    "### 과제3\n",
    "재귀함수 활용하기"
   ]
  },
  {
   "cell_type": "code",
   "execution_count": 7,
   "metadata": {},
   "outputs": [],
   "source": [
    "#이 cell은 수정하지 마세요.\n",
    "x3 = 20"
   ]
  },
  {
   "cell_type": "markdown",
   "metadata": {},
   "source": [
    "아래의 cell에 피보나치 수열의 입력받은 값번째 값을 반환하는 함수 myFibonacci를 작성하시오<br>\n",
    "예)myFibonacci(3) = 2, myFibonacci(6) = 8"
   ]
  },
  {
   "cell_type": "code",
   "execution_count": 8,
   "metadata": {
    "scrolled": true
   },
   "outputs": [],
   "source": [
    "#이 cell에 과제3을 수행하세요.\n",
    "def myFibonacci(x):\n",
    "    if x == 0:\n",
    "        return 0\n",
    "    elif x == 1:\n",
    "        return 1\n",
    "    else:\n",
    "        return myFibonacci(x-1) + myFibonacci(x-2)\n"
   ]
  },
  {
   "cell_type": "code",
   "execution_count": 9,
   "metadata": {},
   "outputs": [
    {
     "name": "stdout",
     "output_type": "stream",
     "text": [
      "True\n"
     ]
    }
   ],
   "source": [
    "#이 cell은 자가진단을 위한 cell입니다.\n",
    "#True가 나온다면 정답\n",
    "print(myFibonacci(x3) == 6765)"
   ]
  },
  {
   "cell_type": "markdown",
   "metadata": {},
   "source": [
    "### 과제 4\n",
    "반복적으로 사용자 입력을 받는 프로그램 작성하기"
   ]
  },
  {
   "cell_type": "code",
   "execution_count": 10,
   "metadata": {},
   "outputs": [],
   "source": [
    "#이 cell은 수정하지 마세요.\n",
    "x4 = 11"
   ]
  },
  {
   "cell_type": "markdown",
   "metadata": {},
   "source": [
    "아래의 cell에 **while**문을 활용하여 아래의 규칙에 맞게 수행하는 함수 myStart를 작성하시오\n",
    "+ 'A'를 입력 받으면 매개변수로 받은 값에 1을 더하고 출력\n",
    "+ 'S'를 입력 받으면 매개변수로 받은 값에 1을 빼고 출력\n",
    "+ 'M'을 입력 받으면 곱할 값을 입력받아 매개변수로 받은 값에 곱하고 출력\n",
    "+ 'D'를 입력 받으면 나눌 값을 입력받아 매개변수로 받은 값에 나누고 출력(저장과 출력 모두 정수형으로)\n",
    "+ 'D'명령에서 나눌 값으로 0을 입력 받을 시 잘못된 입력입니다 다시 입력해주세요 출력 후 사용자입력 다시입력\n",
    "+ 'E'를 입력 받으면 감사합니다를 출력하고 값이 변환된 매개변수 값을 반환\n",
    "+ 규칙에 없는 입력을 받으면 존재하지 않는 명령입니다 출력\n",
    "+ 인자로 넘어온 매개변수가 정수형이 아니면 인자가 잘못되었습니다 출력\n",
    "##### **가산점 규칙**(가산점을 받아도 과제 총합 점수를 넘을 수는 없습니다.)\n",
    "+ 한 문자가 아닌 문자의 조합으로 입력을 받았을 때 입력 순서대로 이를 연속수행<br>(필요시 여러개의 함수 작성가능)"
   ]
  },
  {
   "cell_type": "code",
   "execution_count": 11,
   "metadata": {},
   "outputs": [],
   "source": [
    "#이 cell에 과제4를 수행하세요.\n",
    "def myStart(x, cmd_piece):\n",
    "    \n",
    "    if type(x) != int:\n",
    "        print('인자가 잘못되었습니다')\n",
    "        return None\n",
    "    if cmd_piece == 'A':\n",
    "        x += 1\n",
    "        return x\n",
    "    elif cmd_piece == 'S':\n",
    "        x -= 1\n",
    "        return x\n",
    "    elif cmd_piece == 'M':\n",
    "        multiply = int(input('곱할 숫자를 입력해주세요 : '))\n",
    "        x *= multiply\n",
    "        return x\n",
    "    elif cmd_piece == 'D':\n",
    "        divide = int(input('나눌 숫자를 입력하세요 : '))\n",
    "        while (divide == 0):\n",
    "            print('잘못된 입력입니다 다시 입력해주세요')\n",
    "            divide = int(input('나눌 숫자를 입력하세요 : '))\n",
    "        x = int(x / divide)\n",
    "        return x\n",
    "    elif cmd_piece == 'E':\n",
    "        print('감사합니다')\n",
    "        return x\n",
    "    else:\n",
    "        print('존재하지 않는 명령입니다')\n",
    "        return None\n",
    "            \n"
   ]
  },
  {
   "cell_type": "code",
   "execution_count": 12,
   "metadata": {},
   "outputs": [
    {
     "name": "stdout",
     "output_type": "stream",
     "text": [
      "명령어를 입력하세요 : (A, S, M, D, E)ASMDFE\n",
      "12\n",
      "11\n",
      "곱할 숫자를 입력해주세요 : 2\n",
      "22\n",
      "나눌 숫자를 입력하세요 : 11\n",
      "2\n",
      "존재하지 않는 명령입니다\n",
      "감사합니다\n",
      "2\n"
     ]
    }
   ],
   "source": [
    "#이 cell은 자가진단을 위한 cell입니다. 만일 In[*]의 상태가 유지 된다면 상단 메뉴바 Kernel-Restart & Clear Ouput을 실행하세요\n",
    "cmd = input('명령어를 입력하세요 : (A, S, M, D, E)')\n",
    "n = x4\n",
    "for cmd_piece in cmd:\n",
    "    tmp = myStart(n, cmd_piece)\n",
    "    if tmp  == None:\n",
    "        continue\n",
    "    else:\n",
    "        n = tmp\n",
    "        print(n)"
   ]
  },
  {
   "cell_type": "code",
   "execution_count": 14,
   "metadata": {},
   "outputs": [
    {
     "name": "stdout",
     "output_type": "stream",
     "text": [
      "인자가 잘못되었습니다\n",
      "None\n"
     ]
    }
   ],
   "source": [
    "print(myStart('', ''))"
   ]
  },
  {
   "cell_type": "code",
   "execution_count": null,
   "metadata": {},
   "outputs": [],
   "source": []
  }
 ],
 "metadata": {
  "kernelspec": {
   "display_name": "Python 3",
   "language": "python",
   "name": "python3"
  },
  "language_info": {
   "codemirror_mode": {
    "name": "ipython",
    "version": 3
   },
   "file_extension": ".py",
   "mimetype": "text/x-python",
   "name": "python",
   "nbconvert_exporter": "python",
   "pygments_lexer": "ipython3",
   "version": "3.6.5"
  }
 },
 "nbformat": 4,
 "nbformat_minor": 2
}
