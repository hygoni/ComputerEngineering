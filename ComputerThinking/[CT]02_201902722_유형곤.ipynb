{
 "cells": [
  {
   "cell_type": "markdown",
   "metadata": {},
   "source": [
    "과제번호 02 - 조건문\n",
    "===================="
   ]
  },
  {
   "cell_type": "markdown",
   "metadata": {},
   "source": [
    "# 과제 목표\n",
    "조건문의 사용법과 필요성을 이해하고 활용한다."
   ]
  },
  {
   "cell_type": "markdown",
   "metadata": {},
   "source": [
    "### 과제1\n",
    "여러 조건문 작성하기"
   ]
  },
  {
   "cell_type": "code",
   "execution_count": 1,
   "metadata": {},
   "outputs": [],
   "source": [
    "#이 cell은 수정하지 마세요.\n",
    "x1 = 30\n",
    "x2 = 0.1\n",
    "x3 = 'string'\n",
    "x4 = set('hello')"
   ]
  },
  {
   "cell_type": "markdown",
   "metadata": {
    "scrolled": false
   },
   "source": [
    "아래의 cell에 한 변수를 넣었을 때 자료형에 따라 자료형과 그 값을 출력하는 조건문을 작성하세요.\n",
    "\n",
    "자료형은 자료형 자체만으로도 서로 비교가 가능합니다\n",
    "\n",
    "print( (변수or값) , (변수or값) ) 으로 동시에 출력할 수 있습니다\n",
    "\n",
    "ex)\n",
    "\n",
    "print(x1,x2)\n",
    "\n",
    "30 0.1"
   ]
  },
  {
   "cell_type": "code",
   "execution_count": 2,
   "metadata": {},
   "outputs": [
    {
     "name": "stdout",
     "output_type": "stream",
     "text": [
      "<class 'set'> {'h', 'o', 'l', 'e'}\n"
     ]
    }
   ],
   "source": [
    "#이 cell에 과제1을 수행하세요.\n",
    "#원하는 변수를 사용하여 위의 값중 하나를 가져오세요 ex) a=x1\n",
    "\n",
    "var = x4\n",
    "\n",
    "#정수형일 때 조건문을 작성해주세요.\n",
    "if type(var) == type(1):\n",
    "    print(type(var), var)\n",
    "#실수형일 때 조건문을 작성해주세요.\n",
    "elif type(var) == type(1.0):\n",
    "    print(type(var), var)\n",
    "#문자열일 때 조건문을 작성해주세요.\n",
    "elif type(var) == type('string'):\n",
    "    print(type(var), var)\n",
    "#집합일 때 조건문을 작성해주세요.\n",
    "elif type(var) == type(set([1])):\n",
    "    print(type(var), var)\n",
    "#아래의 else문은 그대로 두셔도 괜찮습니다.\n",
    "else:\n",
    "    print('정수형도 실수형도 문자열도 집합도 아닙니다.')\n"
   ]
  },
  {
   "cell_type": "markdown",
   "metadata": {},
   "source": [
    "### 과제2\n",
    "중첩 조건문 사용하기"
   ]
  },
  {
   "cell_type": "code",
   "execution_count": 3,
   "metadata": {},
   "outputs": [
    {
     "name": "stdout",
     "output_type": "stream",
     "text": [
      "8 34 47\n"
     ]
    }
   ],
   "source": [
    "#이 cell은 수정하지 마세요.\n",
    "\n",
    "from random import randint\n",
    "\n",
    "a = randint(0,100)\n",
    "b = randint(0,100)\n",
    "c = randint(0,100)\n",
    "\n",
    "\n",
    "print(a,b,c)"
   ]
  },
  {
   "cell_type": "markdown",
   "metadata": {},
   "source": [
    "먼저 위의 cell을 한번 실행시킨 후,\n",
    "\n",
    "아래의 cell에 a, b, c 세 값중 2번째로 큰 값이 출력되도록 작성하세요\n",
    "\n",
    "a, b, c 는 무작위로 정해집니다 "
   ]
  },
  {
   "cell_type": "code",
   "execution_count": 4,
   "metadata": {
    "scrolled": true
   },
   "outputs": [
    {
     "name": "stdout",
     "output_type": "stream",
     "text": [
      "34\n"
     ]
    }
   ],
   "source": [
    "#이 cell에 과제2를 수행하세요. \n",
    "\n",
    "\n",
    "if (a==b and b != c):\n",
    "    if b < c:\n",
    "        print(b)\n",
    "    else:\n",
    "        print(c)\n",
    "elif (a==c and c != b):\n",
    "    if a < b:\n",
    "        print(a)\n",
    "    else:\n",
    "        print(b)\n",
    "elif (b == c and a != b):\n",
    "    if b < a:\n",
    "        print(b)\n",
    "    else:\n",
    "        print(a)\n",
    "elif (a==b) and (b==c):\n",
    "    print(a)\n",
    "elif a < b and c < b :\n",
    "    if a < c:\n",
    "        print(c)\n",
    "    else:\n",
    "        print(a)\n",
    "elif b < a and c < a :\n",
    "    if b < c:\n",
    "        print(c)\n",
    "    else:\n",
    "        print(b)\n",
    "else:\n",
    "    if a < b:\n",
    "        print(b)\n",
    "    else:\n",
    "        print(a)"
   ]
  },
  {
   "cell_type": "markdown",
   "metadata": {},
   "source": [
    "### 과제3\n",
    "중첩 조건문 활용하기"
   ]
  },
  {
   "cell_type": "code",
   "execution_count": 5,
   "metadata": {
    "scrolled": true
   },
   "outputs": [],
   "source": [
    "#이 cell은 수정하지 마세요.\n",
    "x = '35908.190827'\n",
    "y = '2309.2753'\n",
    "z = '-293582.9125'\n"
   ]
  },
  {
   "cell_type": "markdown",
   "metadata": {},
   "source": [
    "아래의 cell에 x, y, z 중에서 두개를 선택하여 소수의 자리만 더한 값을 변수에 각각 저장하고\n",
    "\n",
    "만들어진 3쌍을 비교하여 가장 큰 순서대로 부등호를 사용하여 출력되도록 작성하세요\n",
    "\n",
    "출력 예제 : a > b > c"
   ]
  },
  {
   "cell_type": "code",
   "execution_count": 6,
   "metadata": {
    "scrolled": true
   },
   "outputs": [
    {
     "name": "stdout",
     "output_type": "stream",
     "text": [
      "a > b > c\n"
     ]
    }
   ],
   "source": [
    "#이 cell에 과제3를 수행하세요.\n",
    "\n",
    "a = (float(x)-int(float(x))) + (float(y)-int(float(y)))\n",
    "b = (float(y)-int(float(y))) + (float(z)-int(float(z)))\n",
    "c = (float(x)-int(float(x))) + (float(z)-int(float(z)))\n",
    "\n",
    "if a < b:\n",
    "    if b < c:\n",
    "        print('a < b < c')\n",
    "    else:\n",
    "        if a > c:\n",
    "            print('b > a > c')\n",
    "        else:\n",
    "            print('b > c > a')\n",
    "        \n",
    "else:\n",
    "    if b > c:\n",
    "        print('a > b > c')\n",
    "    else:\n",
    "        if a < c:\n",
    "            print('c > a > b')\n",
    "        else:\n",
    "            print('a > c > b')"
   ]
  }
 ],
 "metadata": {
  "kernelspec": {
   "display_name": "Python 3",
   "language": "python",
   "name": "python3"
  },
  "language_info": {
   "codemirror_mode": {
    "name": "ipython",
    "version": 3
   },
   "file_extension": ".py",
   "mimetype": "text/x-python",
   "name": "python",
   "nbconvert_exporter": "python",
   "pygments_lexer": "ipython3",
   "version": "3.7.1"
  }
 },
 "nbformat": 4,
 "nbformat_minor": 2
}
