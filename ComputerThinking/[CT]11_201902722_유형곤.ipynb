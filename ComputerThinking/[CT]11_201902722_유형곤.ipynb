{
 "cells": [
  {
   "cell_type": "markdown",
   "metadata": {},
   "source": [
    "과제번호 11 - 정렬\n",
    "===================="
   ]
  },
  {
   "cell_type": "markdown",
   "metadata": {},
   "source": [
    "# 과제 목표\n",
    "Python 코드를 작성하여 정렬을 할 수 있다."
   ]
  },
  {
   "cell_type": "markdown",
   "metadata": {},
   "source": [
    "### 과제1\n",
    "\n",
    "병합 정렬"
   ]
  },
  {
   "cell_type": "markdown",
   "metadata": {
    "scrolled": false
   },
   "source": [
    "숫자들만 들어있는 list D가 있습니다\n",
    "\n",
    "D가 정렬되지 않았을 때, 병합 정렬을 사용하여 정렬하고 \n",
    "\n",
    "그 결과를 출력해주세요"
   ]
  },
  {
   "cell_type": "code",
   "execution_count": 1,
   "metadata": {},
   "outputs": [
    {
     "name": "stdout",
     "output_type": "stream",
     "text": [
      "[3, 4, 4, 17, 25, 26, 29, 33, 38, 47, 53, 59, 69, 75, 78, 89, 90, 97, 98, 99]\n",
      "True\n"
     ]
    }
   ],
   "source": [
    "#이 cell에 과제 1을 수행하세요.\n",
    "import random\n",
    "D = [random.randint(1, 100) for i in range(20)]\n",
    "\n",
    "def merge(left, right):\n",
    "    result =  list()\n",
    "  \n",
    "    while len(left) > 0 or len(right) > 0:\n",
    "        if len(left) > 0 and len(right) > 0:\n",
    "            if left[0] <= right[0]:\n",
    "                result.append(left.pop(0))\n",
    "            else:\n",
    "                result.append(right.pop(0))    \n",
    "        elif len(left) > 0:\n",
    "            result.append(left.pop(0))\n",
    "        elif len(right) > 0:\n",
    "            result.append(right.pop(0))\n",
    "    return result\n",
    "\n",
    "def mergeSort(list_):\n",
    "    if len(list_) <= 1:\n",
    "        return list_\n",
    "    \n",
    "    mid = len(list_) // 2\n",
    "    left = mergeSort(list_[:mid])\n",
    "    right = mergeSort(list_[mid:])\n",
    "\n",
    "    return merge(left, right)\n",
    "\n",
    "print(mergeSort(D))\n",
    "print(mergeSort(D) == sorted(D))"
   ]
  },
  {
   "cell_type": "markdown",
   "metadata": {},
   "source": [
    "### 과제 2\n",
    "\n",
    "퀵 정렬"
   ]
  },
  {
   "cell_type": "markdown",
   "metadata": {
    "scrolled": false
   },
   "source": [
    "숫자들만 들어있는 list D가 있습니다\n",
    "\n",
    "D가 정렬되지 않았을 때, 퀵 정렬을 사용하여 정렬하고 \n",
    "\n",
    "그 결과를 출력해주세요"
   ]
  },
  {
   "cell_type": "code",
   "execution_count": 20,
   "metadata": {},
   "outputs": [
    {
     "name": "stdout",
     "output_type": "stream",
     "text": [
      "[1, 16, 18, 19, 19, 23, 35, 48, 54, 55, 61, 64, 64, 66, 72, 81, 89, 93, 98, 99]\n"
     ]
    }
   ],
   "source": [
    "import random\n",
    "\n",
    "D = [random.randint(1, 100) for i in range(20)]\n",
    "\n",
    "#이 cell에 과제 2를 수행하세요.\n",
    "def quickSort(list_):\n",
    "    \n",
    "    if len(list_) <= 1:\n",
    "        return list_\n",
    "    \n",
    "    pivot = random.randint(0, len(list_)-1)\n",
    "    \n",
    "    lower_list = list()\n",
    "    upper_list = list()\n",
    "    equal_list = list()\n",
    "    \n",
    "    for element in list_:\n",
    "        if element < list_[pivot]:\n",
    "            lower_list.append(element)\n",
    "        elif element > list_[pivot]:\n",
    "            upper_list.append(element)\n",
    "        else:\n",
    "            equal_list.append(element)\n",
    "    return quickSort(lower_list) + equal_list + quickSort(upper_list)\n",
    "            \n",
    "print(quickSort(D))\n",
    "            \n",
    "            \n",
    "            \n"
   ]
  }
 ],
 "metadata": {
  "kernelspec": {
   "display_name": "Python 3",
   "language": "python",
   "name": "python3"
  },
  "language_info": {
   "codemirror_mode": {
    "name": "ipython",
    "version": 3
   },
   "file_extension": ".py",
   "mimetype": "text/x-python",
   "name": "python",
   "nbconvert_exporter": "python",
   "pygments_lexer": "ipython3",
   "version": "3.6.7"
  }
 },
 "nbformat": 4,
 "nbformat_minor": 2
}
