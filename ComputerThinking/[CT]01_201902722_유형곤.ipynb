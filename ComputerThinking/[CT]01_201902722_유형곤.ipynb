{
 "cells": [
  {
   "cell_type": "markdown",
   "metadata": {},
   "source": [
    "과제번호 01 - 변수와 자료형\n",
    "===================="
   ]
  },
  {
   "cell_type": "markdown",
   "metadata": {},
   "source": [
    "# 과제 목표\n",
    "각 자료형의 차이와 해당 자료형이 지원하는 연산자를 알고 사용해본다."
   ]
  },
  {
   "cell_type": "markdown",
   "metadata": {},
   "source": [
    "### 과제1\n",
    "자료형 출력해보기"
   ]
  },
  {
   "cell_type": "code",
   "execution_count": 1,
   "metadata": {},
   "outputs": [],
   "source": [
    "#이 cell은 수정하지 마세요.\n",
    "x = 25\n",
    "y = 0.23"
   ]
  },
  {
   "cell_type": "markdown",
   "metadata": {
    "scrolled": false
   },
   "source": [
    "아래의 cell에 변수를 사용하여 x+y의 자료형을 출력하시오"
   ]
  },
  {
   "cell_type": "code",
   "execution_count": 2,
   "metadata": {},
   "outputs": [
    {
     "name": "stdout",
     "output_type": "stream",
     "text": [
      "<class 'float'>\n"
     ]
    }
   ],
   "source": [
    "#이 cell에 과제1을 수행하세요.\n",
    "print(type(x+y))"
   ]
  },
  {
   "cell_type": "markdown",
   "metadata": {},
   "source": [
    "### 과제2\n",
    "알맞는 연산자 선택하기"
   ]
  },
  {
   "cell_type": "code",
   "execution_count": 3,
   "metadata": {},
   "outputs": [
    {
     "name": "stdout",
     "output_type": "stream",
     "text": [
      "printprintprintprintprintprintprintprintprintprintprintprintprintprintprintprintprintprintprint\n"
     ]
    }
   ],
   "source": [
    "#이 cell은 수정하지 마세요.\n",
    "print('printprintprintprintprintprintprintprintprintprintprintprintprintprintprintprintprintprintprint')"
   ]
  },
  {
   "cell_type": "markdown",
   "metadata": {},
   "source": [
    "아래의 cell에 위의 출력과 같은 출력을 가지는 코드를 a이외의 변수로 작성하고 변수 a와 비교한 값을 나타내시오 \n",
    "\n",
    "**a와 같은 방법으로 만들어져서는 안됨**"
   ]
  },
  {
   "cell_type": "code",
   "execution_count": 4,
   "metadata": {},
   "outputs": [
    {
     "name": "stdout",
     "output_type": "stream",
     "text": [
      "True\n"
     ]
    }
   ],
   "source": [
    "#이 cell에 과제2를 수행하세요.\n",
    "a='printprintprintprintprintprintprintprintprintprintprintprintprintprintprintprintprintprintprint'\n",
    "print_ = ('print' * 19)\n",
    "\n",
    "print(a == print_) #출력된 값이 True일 경우 a와 print_의 값은 같음."
   ]
  },
  {
   "cell_type": "markdown",
   "metadata": {},
   "source": [
    "### 과제3\n",
    "자료형 변경하기"
   ]
  },
  {
   "cell_type": "code",
   "execution_count": 5,
   "metadata": {},
   "outputs": [
    {
     "name": "stdout",
     "output_type": "stream",
     "text": [
      "3434625431233321166\n"
     ]
    }
   ],
   "source": [
    "#이 cell은 수정하지 마세요.\n",
    "x1 = '343462543'\n",
    "x2 = '1233321166'\n",
    "print(x1 + x2)"
   ]
  },
  {
   "cell_type": "markdown",
   "metadata": {},
   "source": [
    "변수 x1, x2을 사용하여 x1과 x2의 정수합을 구하시오"
   ]
  },
  {
   "cell_type": "code",
   "execution_count": 6,
   "metadata": {
    "scrolled": true
   },
   "outputs": [
    {
     "name": "stdout",
     "output_type": "stream",
     "text": [
      "1576783709\n"
     ]
    }
   ],
   "source": [
    "#이 cell에 과제3을 수행하세요.\n",
    "print(int(x1)+int(x2))"
   ]
  }
 ],
 "metadata": {
  "kernelspec": {
   "display_name": "Python 3",
   "language": "python",
   "name": "python3"
  },
  "language_info": {
   "codemirror_mode": {
    "name": "ipython",
    "version": 3
   },
   "file_extension": ".py",
   "mimetype": "text/x-python",
   "name": "python",
   "nbconvert_exporter": "python",
   "pygments_lexer": "ipython3",
   "version": "3.7.1"
  }
 },
 "nbformat": 4,
 "nbformat_minor": 2
}
