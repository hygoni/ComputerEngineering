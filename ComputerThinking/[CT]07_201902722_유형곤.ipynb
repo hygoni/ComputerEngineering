{
 "cells": [
  {
   "cell_type": "markdown",
   "metadata": {},
   "source": [
    "과제번호 07 - Class\n",
    "===================="
   ]
  },
  {
   "cell_type": "markdown",
   "metadata": {},
   "source": [
    "# 과제 목표\n",
    "Python의 Class를 이해하고 정의하며 instance를 생성하고 사용한다"
   ]
  },
  {
   "cell_type": "markdown",
   "metadata": {},
   "source": [
    "### 과제1\n",
    "클래스 정의해보기"
   ]
  },
  {
   "cell_type": "markdown",
   "metadata": {
    "scrolled": false
   },
   "source": [
    "아래의 cell에 아래 조건을 만족하는 myStudent를 작성하시오\n",
    "\n",
    "변수: 학번, 이름\n",
    "\n",
    "생성자: 학번과 이름을 입력받아 저장\n",
    "\n",
    "print(인스턴스): '학번: 이름'"
   ]
  },
  {
   "cell_type": "code",
   "execution_count": 1,
   "metadata": {},
   "outputs": [
    {
     "name": "stdout",
     "output_type": "stream",
     "text": [
      "201902722: 유형곤\n"
     ]
    }
   ],
   "source": [
    "#이 cell에 과제1을 수행하세요.\n",
    "class myStudent:\n",
    "    \n",
    "    studentNumber = None\n",
    "    name = None\n",
    "    \n",
    "    def __init__(self, studentNumber, name):\n",
    "        self.studentNumber = studentNumber\n",
    "        self.name = name\n",
    "        \n",
    "    def __str__(self):\n",
    "        return '{}: {}'.format(self.studentNumber, self.name)\n",
    "    \n",
    "HyunggonYu = myStudent('201902722', '유형곤')\n",
    "print(HyunggonYu)"
   ]
  }
 ],
 "metadata": {
  "kernelspec": {
   "display_name": "Python 3",
   "language": "python",
   "name": "python3"
  },
  "language_info": {
   "codemirror_mode": {
    "name": "ipython",
    "version": 3
   },
   "file_extension": ".py",
   "mimetype": "text/x-python",
   "name": "python",
   "nbconvert_exporter": "python",
   "pygments_lexer": "ipython3",
   "version": "3.7.1"
  }
 },
 "nbformat": 4,
 "nbformat_minor": 2
}
