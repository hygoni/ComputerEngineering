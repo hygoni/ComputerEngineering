{
 "cells": [
  {
   "cell_type": "markdown",
   "metadata": {},
   "source": [
    "과제번호 10 - 정렬\n",
    "===================="
   ]
  },
  {
   "cell_type": "markdown",
   "metadata": {},
   "source": [
    "# 과제 목표\n",
    "Python 코드를 작성하여 정렬을 할 수 있다."
   ]
  },
  {
   "cell_type": "markdown",
   "metadata": {},
   "source": [
    "### 과제1\n",
    "버블 정렬"
   ]
  },
  {
   "cell_type": "markdown",
   "metadata": {
    "scrolled": false
   },
   "source": [
    "숫자들만 들어있는 list D가 있습니다\n",
    "\n",
    "D가 정렬되지 않았을 때, 버블 정렬을 사용하여 정렬하고 \n",
    "\n",
    "그 결과를 출력해주세요"
   ]
  },
  {
   "cell_type": "code",
   "execution_count": 1,
   "metadata": {},
   "outputs": [],
   "source": [
    "import numpy as np"
   ]
  },
  {
   "cell_type": "code",
   "execution_count": 2,
   "metadata": {},
   "outputs": [
    {
     "name": "stdout",
     "output_type": "stream",
     "text": [
      "True\n"
     ]
    }
   ],
   "source": [
    "#이 cell에 과제 1을 수행하세요.\n",
    "\n",
    "D = np.random.randint(0, 1000, 100)\n",
    "\n",
    "def asc_sorted(list_):\n",
    "    for i in range(len(list_) - 1):\n",
    "        if list_[i] > list_[i+1]:\n",
    "            return False\n",
    "    else:\n",
    "        return True\n",
    "def desc_sorted(list_):\n",
    "    for i in range(len(list_) - 1):\n",
    "        if list_[i] < list_[i+1]:\n",
    "            return False\n",
    "    else:\n",
    "        return True\n",
    "    \n",
    "def bubbleSort(list_):\n",
    "    if asc_sorted(D):\n",
    "        print(\"message in function bubbleSort(): 리스트가 이미 정렬되어있습니다.\")\n",
    "        return D\n",
    "    for i in range(len(D)):\n",
    "        for j in range(len(D) - i - 1):\n",
    "            if list_[j] > list_[j+1]:\n",
    "                list_[j], list_[j+1] = list_[j+1], list_[j]\n",
    "    return D\n",
    "\n",
    "print(asc_sorted(bubbleSort(D)))"
   ]
  },
  {
   "cell_type": "markdown",
   "metadata": {},
   "source": [
    "### 과제 2\n",
    "내림차순 정렬 - 선택"
   ]
  },
  {
   "cell_type": "markdown",
   "metadata": {
    "scrolled": false
   },
   "source": [
    "숫자들만 들어있는 list D가 있습니다\n",
    "\n",
    "D가 정렬되지 않았을 때, 선택 정렬을 사용하여 내림차순으로 정렬하고 \n",
    "\n",
    "그 결과를 출력해주세요"
   ]
  },
  {
   "cell_type": "code",
   "execution_count": 3,
   "metadata": {},
   "outputs": [
    {
     "name": "stdout",
     "output_type": "stream",
     "text": [
      "True\n"
     ]
    }
   ],
   "source": [
    "#이 cell에 과제 2를 수행하세요.\n",
    "D = np.random.randint(0, 1000, 100)\n",
    "\n",
    "def selectionSort(list_):\n",
    "    if desc_sorted(list_):\n",
    "        print(\"message in function selectionSort(): 리스트가 이미 정렬되어있습니다.\")\n",
    "        return list_\n",
    "    \n",
    "    for i in range(len(list_)):\n",
    "        highest = i\n",
    "        for j in range(i, len(list_)):\n",
    "            if list_[j] > list_[highest]:\n",
    "                highest = j\n",
    "        list_[i], list_[highest] = list_[highest], list_[i]\n",
    "    return list_\n",
    "\n",
    "print(desc_sorted(selectionSort(D)))\n",
    "                "
   ]
  },
  {
   "cell_type": "markdown",
   "metadata": {},
   "source": [
    "### 과제 3\n",
    "내림차순 정렬 - 삽입"
   ]
  },
  {
   "cell_type": "markdown",
   "metadata": {
    "scrolled": false
   },
   "source": [
    "숫자들만 들어있는 list D가 있습니다\n",
    "\n",
    "D가 정렬되지 않았을 때, 삽입 정렬을 사용하여 내림차순으로 정렬하고 \n",
    "\n",
    "그 결과를 출력해주세요"
   ]
  },
  {
   "cell_type": "code",
   "execution_count": 4,
   "metadata": {},
   "outputs": [
    {
     "name": "stdout",
     "output_type": "stream",
     "text": [
      "True\n"
     ]
    }
   ],
   "source": [
    "#이 cell에 과제 3을 수행하세요.\n",
    "\n",
    "D = np.random.randint(0, 1000, 100)\n",
    "\n",
    "def insertionSort(list_):\n",
    "    if desc_sorted(list_):\n",
    "        print(\"message in function insertionSort(): 리스트가 이미 정렬되어있습니다.\")\n",
    "        return list_\n",
    "    \n",
    "    for i in range(1, len(list_)):\n",
    "        for j in range(i, 0, -1):\n",
    "            if list_[j] > list_[j-1]:\n",
    "                list_[j], list_[j-1] = list_[j-1], list_[j]\n",
    "    return list_\n",
    "\n",
    "\n",
    "print(desc_sorted(insertionSort(D)))"
   ]
  }
 ],
 "metadata": {
  "kernelspec": {
   "display_name": "Python 3",
   "language": "python",
   "name": "python3"
  },
  "language_info": {
   "codemirror_mode": {
    "name": "ipython",
    "version": 3
   },
   "file_extension": ".py",
   "mimetype": "text/x-python",
   "name": "python",
   "nbconvert_exporter": "python",
   "pygments_lexer": "ipython3",
   "version": "3.7.1"
  }
 },
 "nbformat": 4,
 "nbformat_minor": 2
}
