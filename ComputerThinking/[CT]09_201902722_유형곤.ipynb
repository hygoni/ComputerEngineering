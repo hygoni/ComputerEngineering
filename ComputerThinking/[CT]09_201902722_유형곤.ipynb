{
 "cells": [
  {
   "cell_type": "markdown",
   "metadata": {},
   "source": [
    "과제번호 09 - 탐색\n",
    "===================="
   ]
  },
  {
   "cell_type": "markdown",
   "metadata": {},
   "source": [
    "# 과제 목표\n",
    "Python 코드를 작성하여 탐색의 목적을 이룰 수 있다."
   ]
  },
  {
   "cell_type": "markdown",
   "metadata": {},
   "source": [
    "### 과제1\n",
    "선형 탐색 작성하기"
   ]
  },
  {
   "cell_type": "markdown",
   "metadata": {
    "scrolled": false
   },
   "source": [
    "아래의 cell에 탐색하고자 하는 **숫자**값을 입력받으면, data폴더의 data1.txt 안에 입력받은 숫자가 존재하는지 선형 탐색을 하고 그 결과를 출력해주세요\n",
    "\n",
    "출력 예시 : 입력받은 값 x가 존재합니다."
   ]
  },
  {
   "cell_type": "code",
   "execution_count": 1,
   "metadata": {},
   "outputs": [
    {
     "name": "stdout",
     "output_type": "stream",
     "text": [
      "75\n",
      "숫자 75을(를) 찾았습니다! data1.txt의 3번째 줄에 있습니다.\n"
     ]
    }
   ],
   "source": [
    "#이 cell에 과제1을 수행하세요.\n",
    "data = open('./data/data1.txt', 'r')\n",
    "num_list = [int(line[:-1]) for line in data.readlines()]\n",
    "target =  int(input())\n",
    "for i in range(len(num_list)):\n",
    "    if num_list[i] == target:\n",
    "        print('숫자 {}을(를) 찾았습니다! data1.txt의 {}번째 줄에 있습니다.'.format(target, i+1))\n",
    "        break\n",
    "else:\n",
    "    print('숫자 {}은 data1.txt에 없습니다.')"
   ]
  },
  {
   "cell_type": "markdown",
   "metadata": {},
   "source": [
    "### 과제 2\n",
    "여러 파일의 이진 탐색 작성하기"
   ]
  },
  {
   "cell_type": "markdown",
   "metadata": {},
   "source": [
    "data폴더 안의 모든 파일을 순회하며 값을 탐색하려고 합니다\n",
    "\n",
    "만약 찾고자 하는 **숫자** 값이 존재한다면 어느 파일에 존재하는지 이진 탐색으로 탐색하고 그 결과를 출력해주세요\n",
    "\n",
    "출력 예시 : 찾는 값 x는 data2에 있습니다\n",
    "\n",
    "**해당 폴더의 모든 파일명을 가져오는 방법은 다음 cell을 참고하시오**"
   ]
  },
  {
   "cell_type": "code",
   "execution_count": 2,
   "metadata": {},
   "outputs": [
    {
     "name": "stdout",
     "output_type": "stream",
     "text": [
      "2000\n",
      "찾는 값 2000는 data3.txt에 있습니다.\n",
      "['data1.txt', 'data2.txt', 'data3.txt']\n"
     ]
    }
   ],
   "source": [
    "#이 cell에 과제2를 수행하세요.\n",
    "import os\n",
    "\n",
    "def binary_search(_list, target):\n",
    "    _list.sort()\n",
    "    start = 0\n",
    "    end = len(_list) - 1\n",
    "    while start <= end:\n",
    "        mid = (start+end)//2\n",
    "        if _list[mid] < target:\n",
    "            start = mid + 1\n",
    "        elif _list[mid] > target:\n",
    "            end = mid - 1\n",
    "        else:\n",
    "             return mid\n",
    "    return None\n",
    "\n",
    "all_file = os.listdir('./data/')\n",
    "all_file.remove('.ipynb_checkpoints')\n",
    "target = int(input())\n",
    "\n",
    "for filename in all_file:\n",
    "    f = open('./data/' + filename, 'r')\n",
    "    num_list = [int(line[:-1]) for line in f.readlines()]\n",
    "    result = binary_search(num_list, target)\n",
    "    if result != None:\n",
    "        print('찾는 값 {}는 {}에 있습니다.'.format(target, filename))\n",
    "        \n",
    "print(all_file) ## 위의 코드를 실행한 결과물 출력\n"
   ]
  }
 ],
 "metadata": {
  "kernelspec": {
   "display_name": "Python 3",
   "language": "python",
   "name": "python3"
  },
  "language_info": {
   "codemirror_mode": {
    "name": "ipython",
    "version": 3
   },
   "file_extension": ".py",
   "mimetype": "text/x-python",
   "name": "python",
   "nbconvert_exporter": "python",
   "pygments_lexer": "ipython3",
   "version": "3.7.1"
  }
 },
 "nbformat": 4,
 "nbformat_minor": 2
}
